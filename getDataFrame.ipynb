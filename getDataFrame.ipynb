{
 "cells": [
  {
   "cell_type": "markdown",
   "metadata": {},
   "source": [
    "### Código para la obtención y limpieza de los datos de StatsBoom "
   ]
  },
  {
   "cell_type": "code",
   "execution_count": 77,
   "metadata": {},
   "outputs": [],
   "source": [
    "from statsbombpy import sb\n",
    "import pandas as pd\n",
    "import numpy as np\n",
    "import seaborn as sns\n",
    "import matplotlib.pyplot as plt"
   ]
  },
  {
   "cell_type": "code",
   "execution_count": 50,
   "metadata": {},
   "outputs": [],
   "source": [
    "def eventsTeam(country,division,season,gender,team):\n",
    "    \"\"\"\n",
    "    Algoritmo que obtiene todos los eventos de todos los partidos del equipo del argumento 'team' y en la \n",
    "    competencia específicada por los demás parámetros.\n",
    "    \"\"\"\n",
    "    competitionInCountry = sb.competitions()[sb.competitions()['country_name'] == country]\n",
    "    competitionGender = competitionInCountry[competitionInCountry['competition_gender'] == gender]\n",
    "    competitionDivision = competitionGender[competitionGender['competition_name'] == division]\n",
    "    competition = competitionDivision[competitionDivision['season_name'] == season]\n",
    "\n",
    "    competition_id = competition['competition_id'].values[0]\n",
    "    season_id = competition['season_id'].values[0]\n",
    "\n",
    "    all_matches = sb.matches(competition_id= competition_id, season_id=season_id)\n",
    "    team_matches = all_matches[(all_matches['home_team'] == team) | (all_matches['away_team'] == team)]\n",
    "\n",
    "    id_matches = list(team_matches.match_id.unique())\n",
    "    events = []\n",
    "    for match in id_matches:\n",
    "        events.append(sb.events(match_id=match))\n",
    "    events = pd.concat(events)\n",
    "\n",
    "    return events"
   ]
  },
  {
   "cell_type": "code",
   "execution_count": 114,
   "metadata": {},
   "outputs": [],
   "source": [
    "def cleanData(team,events):\n",
    "    \"\"\"\n",
    "    Algoritmo que recibe un Data Frame de eventos y lo convierte en un Data Frame de las métricas que nos interesan para el análisis.\n",
    "    \"\"\"\n",
    "    dataFrame = pd.DataFrame()\n",
    "    metricas = [team]\n",
    "    columns=['team','pases_totales','pases_bajo_presion','pp_exitosos_totales',\n",
    "                                        'pp_exitosos_bajo_presion','pp_exitosos_sin_presion']\n",
    "\n",
    "    # Pases\n",
    "    events['successful_pass'] = events['pass_outcome'].isna()\n",
    "    events['under_pressure'] = events['under_pressure'].replace({np.nan: False})\n",
    "\n",
    "    pases_tot = events[events['type'] == 'Pass']\n",
    "    metricas.append(pases_tot.shape[0])\n",
    "\n",
    "    pases_exitosos_totales = pases_tot[pases_tot['successful_pass'] == True]\n",
    "    total_bajo_presion = pases_tot[pases_tot['under_pressure'] == True]\n",
    "    metricas.append(total_bajo_presion.shape[0])\n",
    "    \n",
    "    exitos_bajo_presion = total_bajo_presion[total_bajo_presion['successful_pass'] == True]\n",
    "    total_sin_presion = pases_tot[pases_tot['under_pressure'] == False]\n",
    "    exitos_sin_presion = total_sin_presion[total_sin_presion['successful_pass'] == True]\n",
    "\n",
    "    ppe_tot = round(100*pases_exitosos_totales.shape[0] / pases_tot.shape[0], 2) if pases_tot.shape[0] else 0\n",
    "    metricas.append(ppe_tot)\n",
    "    ppe_bajo_presion = round(100*exitos_bajo_presion.shape[0] / total_bajo_presion.shape[0], 2) if total_bajo_presion.shape[0] else 0\n",
    "    metricas.append(ppe_bajo_presion)\n",
    "    ppe_sin_presion = round(100*exitos_sin_presion.shape[0] / total_sin_presion.shape[0], 2) if total_sin_presion.shape[0] else 0\n",
    "    metricas.append(ppe_sin_presion)\n",
    "\n",
    "    return pd.DataFrame([metricas], columns=columns)\n"
   ]
  },
  {
   "cell_type": "code",
   "execution_count": null,
   "metadata": {},
   "outputs": [],
   "source": [
    "team = 'Manchester City'\n",
    "events = eventsTeam('England','Premier League','2015/2016','male',team)"
   ]
  },
  {
   "cell_type": "code",
   "execution_count": 117,
   "metadata": {},
   "outputs": [],
   "source": [
    "data_man_city = cleanData(team,events)"
   ]
  },
  {
   "cell_type": "code",
   "execution_count": 118,
   "metadata": {},
   "outputs": [
    {
     "data": {
      "text/html": [
       "<div>\n",
       "<style scoped>\n",
       "    .dataframe tbody tr th:only-of-type {\n",
       "        vertical-align: middle;\n",
       "    }\n",
       "\n",
       "    .dataframe tbody tr th {\n",
       "        vertical-align: top;\n",
       "    }\n",
       "\n",
       "    .dataframe thead th {\n",
       "        text-align: right;\n",
       "    }\n",
       "</style>\n",
       "<table border=\"1\" class=\"dataframe\">\n",
       "  <thead>\n",
       "    <tr style=\"text-align: right;\">\n",
       "      <th></th>\n",
       "      <th>team</th>\n",
       "      <th>pases_totales</th>\n",
       "      <th>pases_bajo_presion</th>\n",
       "      <th>pp_exitosos_totales</th>\n",
       "      <th>pp_exitosos_bajo_presion</th>\n",
       "      <th>pp_exitosos_sin_presion</th>\n",
       "    </tr>\n",
       "  </thead>\n",
       "  <tbody>\n",
       "    <tr>\n",
       "      <th>0</th>\n",
       "      <td>Manchester City</td>\n",
       "      <td>39186</td>\n",
       "      <td>5784</td>\n",
       "      <td>78.88</td>\n",
       "      <td>69.88</td>\n",
       "      <td>80.44</td>\n",
       "    </tr>\n",
       "  </tbody>\n",
       "</table>\n",
       "</div>"
      ],
      "text/plain": [
       "              team  pases_totales  pases_bajo_presion  pp_exitosos_totales  \\\n",
       "0  Manchester City          39186                5784                78.88   \n",
       "\n",
       "   pp_exitosos_bajo_presion  pp_exitosos_sin_presion  \n",
       "0                     69.88                    80.44  "
      ]
     },
     "execution_count": 118,
     "metadata": {},
     "output_type": "execute_result"
    }
   ],
   "source": [
    "data_man_city"
   ]
  }
 ],
 "metadata": {
  "kernelspec": {
   "display_name": "Python 3",
   "language": "python",
   "name": "python3"
  },
  "language_info": {
   "codemirror_mode": {
    "name": "ipython",
    "version": 3
   },
   "file_extension": ".py",
   "mimetype": "text/x-python",
   "name": "python",
   "nbconvert_exporter": "python",
   "pygments_lexer": "ipython3",
   "version": "3.12.1"
  }
 },
 "nbformat": 4,
 "nbformat_minor": 2
}
